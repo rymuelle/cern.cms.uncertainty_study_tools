{
 "cells": [
  {
   "cell_type": "code",
   "execution_count": null,
   "id": "8353fe99",
   "metadata": {},
   "outputs": [],
   "source": [
    "from src.assets import *\n",
    "import pandas as pd\n",
    "import numpy as np\n",
    "import matplotlib.pyplot as plt\n",
    "from scipy import stats\n",
    "import uncertainties as unc"
   ]
  },
  {
   "cell_type": "code",
   "execution_count": null,
   "id": "ac707474",
   "metadata": {},
   "outputs": [],
   "source": [
    "import mplhep as hep"
   ]
  },
  {
   "cell_type": "code",
   "execution_count": null,
   "id": "ac56401f",
   "metadata": {},
   "outputs": [],
   "source": [
    "hep.style.use(hep.style.CMS)"
   ]
  },
  {
   "cell_type": "code",
   "execution_count": null,
   "id": "aa750e7d",
   "metadata": {},
   "outputs": [],
   "source": [
    "data_df = pd.read_csv('combined_xml_report.csv')"
   ]
  },
  {
   "cell_type": "code",
   "execution_count": null,
   "id": "1b0ae89d",
   "metadata": {},
   "outputs": [],
   "source": [
    "def sign(x):\n",
    "    if x==0: return 1\n",
    "    return abs(x)/x"
   ]
  },
  {
   "cell_type": "code",
   "execution_count": null,
   "id": "f4520bda",
   "metadata": {},
   "outputs": [],
   "source": [
    "def calc_chi2(x, var):\n",
    "    return np.sum(x**2/var)\n",
    "def calc_chi2_width(x, stddev, width):\n",
    "    return calc_chi2(x, (stddev**2+width**2*sign(width)))"
   ]
  },
  {
   "cell_type": "code",
   "execution_count": null,
   "id": "31821be2",
   "metadata": {},
   "outputs": [],
   "source": [
    "class Chi2Curve:\n",
    "    def __init__(self, steps, chi2, nDF):\n",
    "        self.steps = steps\n",
    "        self.chi2  = chi2\n",
    "        self.nDF = nDF\n",
    "    def step_size(self):\n",
    "        #assume constant step size \n",
    "        return self.steps[1]-self.steps[0]\n",
    "    def nChi2(self):\n",
    "        return self.chi2/self.nDF\n",
    "    def pdf(self):\n",
    "        pdf = np.array(list(map( lambda x: stats.chi2.pdf(x, self.nDF), self.chi2)))\n",
    "        pdf = np.nan_to_num(pdf)\n",
    "        # total sums up to 1\n",
    "        pdf = pdf/np.sum(pdf)\n",
    "        total_at_start = self.cdf()[0]\n",
    "        return pdf*total_at_start\n",
    "    def mean_value(self):\n",
    "        return np.sum(self.steps*self.pdf())/np.sum(self.pdf())\n",
    "        return unc.ufloat(1,1)\n",
    "    def cdf(self):\n",
    "        return  np.array(list(map( lambda x: stats.chi2.cdf(x, self.nDF), self.chi2)))\n",
    "    def cdf_range(self):\n",
    "        cdf = self.cdf()\n",
    "        one_sigma_bound = .16\n",
    "        min_index, max_index = np.argmin(abs(cdf-(1-one_sigma_bound))), np.argmin(abs(cdf-one_sigma_bound))\n",
    "        return self.steps[min_index], self.steps[max_index]"
   ]
  },
  {
   "cell_type": "code",
   "execution_count": null,
   "id": "17de356a",
   "metadata": {},
   "outputs": [],
   "source": [
    "def scan_offsets(x, unc, steps=np.linspace(0,.2,1000)):\n",
    "    return steps, list(map(lambda width: calc_chi2_width(x, unc, width), steps))"
   ]
  },
  {
   "cell_type": "code",
   "execution_count": null,
   "id": "1f1ee1ae",
   "metadata": {},
   "outputs": [],
   "source": [
    "def scan_offset_df(df, alignable, steps):\n",
    "    nDF = df.shape[0]\n",
    "    x = df[alignable]\n",
    "    unc = df[alignable+'_unc']\n",
    "    return Chi2Curve(*np.array(scan_offsets(x, unc, steps=steps)), nDF)"
   ]
  },
  {
   "cell_type": "code",
   "execution_count": null,
   "id": "0a9f8180",
   "metadata": {},
   "outputs": [],
   "source": [
    "def draw_chi2_curve(ax, alignable, df, title, steps, unit, scale):\n",
    "    chi2_curve = scan_offset_df(df, alignable, steps)\n",
    "    mv = chi2_curve.mean_value()\n",
    "    chi2_range = chi2_curve.cdf_range()\n",
    "    #ax.plot(chi2_curve.steps*scale, chi2_curve.pdf(), label = '{}, {:.1f} {}'.format(title, mv*scale, unit))\n",
    "    ax.plot(chi2_curve.steps*scale, chi2_curve.pdf(), label = '{}, {:.1f}-{:.1f} {}'.format(title, chi2_range[0]*scale, chi2_range[1]*scale, unit))\n",
    "    ax.legend()\n",
    "    ax.set_ylabel('probability density')\n",
    "    ax.set_xlabel(unit)\n",
    "    return mv"
   ]
  },
  {
   "cell_type": "code",
   "execution_count": null,
   "id": "c10a1b4a",
   "metadata": {},
   "outputs": [],
   "source": [
    "#first collumn units in cms or radians last one is the conversion to intended units\n",
    "x_units = [\n",
    "    [.2, 'micrometers',10000],\n",
    "    [.2, 'micrometers',10000],\n",
    "    [.2, 'micrometers',10000],\n",
    "    [.001, 'milliradians', 1000],\n",
    "    [.001, 'milliradians', 1000],\n",
    "    [.001, 'milliradians', 1000],\n",
    "]"
   ]
  },
  {
   "cell_type": "code",
   "execution_count": null,
   "id": "a481c266",
   "metadata": {},
   "outputs": [],
   "source": [
    "def plot_station_alignable(sn, ax, alignable, steps, unit, scale):\n",
    "    draw_chi2_curve(ax, alignable, data_df[data_df.station==sn], 'station {} {}'.format(sn, alignable), steps, unit, scale)"
   ]
  },
  {
   "cell_type": "code",
   "execution_count": null,
   "id": "15df1da4",
   "metadata": {},
   "outputs": [],
   "source": [
    "chi2_curve = scan_offset_df(data_df[data_df.station==4], 'phiy', np.linspace(0,.001,1000))"
   ]
  },
  {
   "cell_type": "code",
   "execution_count": null,
   "id": "5b573c6f",
   "metadata": {
    "scrolled": false
   },
   "outputs": [],
   "source": [
    "for al, (xmax, unit, scale) in zip(alignables, x_units):\n",
    "    fig, ax = plt.subplots(figsize=(12,10))\n",
    "    steps = np.linspace(0, xmax, 1000)\n",
    "    for i in [1,2,3,4]:\n",
    "        plot_station_alignable(i, ax, al, steps, unit, scale)\n",
    "    #ax.plot([0,1], [1,1])\n",
    "    fig.show()\n",
    "    fig.savefig('chi2_output/pdf_{}_stations.pdf'.format(al))"
   ]
  },
  {
   "cell_type": "code",
   "execution_count": null,
   "id": "058ba84d",
   "metadata": {},
   "outputs": [],
   "source": [
    "def plot_wheel_alignable(wheel, ax, alignable, steps, unit, scale):\n",
    "    draw_chi2_curve(ax, alignable, data_df[abs(data_df.wheel)==wheel], 'wheel {} {}'.format(wheel, alignable), steps, unit, scale)"
   ]
  },
  {
   "cell_type": "code",
   "execution_count": null,
   "id": "de7e48bf",
   "metadata": {
    "scrolled": true
   },
   "outputs": [],
   "source": [
    "for al, (xmax, unit, scale) in zip(alignables, x_units):\n",
    "    fig, ax = plt.subplots(figsize=(6,5))\n",
    "    steps = np.linspace(0, xmax, 1000)\n",
    "    for i in [0,1,2]:\n",
    "        plot_station_alignable(i, ax, al, steps, unit, scale)\n",
    "    #ax.plot([0,1], [1,1])\n",
    "    fig.show()\n",
    "    fig.savefig('chi2_output/pdf_{}_wheel.pdf'.format(al))"
   ]
  }
 ],
 "metadata": {
  "kernelspec": {
   "display_name": "Python 3",
   "language": "python",
   "name": "python3"
  },
  "language_info": {
   "codemirror_mode": {
    "name": "ipython",
    "version": 3
   },
   "file_extension": ".py",
   "mimetype": "text/x-python",
   "name": "python",
   "nbconvert_exporter": "python",
   "pygments_lexer": "ipython3",
   "version": "3.9.6"
  }
 },
 "nbformat": 4,
 "nbformat_minor": 5
}
