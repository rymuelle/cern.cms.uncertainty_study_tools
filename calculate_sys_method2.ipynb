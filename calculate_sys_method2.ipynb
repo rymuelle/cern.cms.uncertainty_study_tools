{
 "cells": [
  {
   "cell_type": "code",
   "execution_count": null,
   "id": "e9e86a0d",
   "metadata": {},
   "outputs": [],
   "source": [
    "import numpy as np\n",
    "import pandas as pd\n",
    "import matplotlib.pyplot as plt\n",
    "from scipy.optimize import curve_fit\n",
    "#import mplhep as hep\n",
    "%load_ext autoreload\n",
    "%autoreload 2"
   ]
  },
  {
   "cell_type": "code",
   "execution_count": null,
   "id": "35d7d185",
   "metadata": {},
   "outputs": [],
   "source": [
    "from unc_stdy.utils import select_sectors\n",
    "from unc_stdy.fit_func import standard_error, std_err_sys\n",
    "from unc_stdy.common_objects import wheel_stations_df"
   ]
  },
  {
   "cell_type": "code",
   "execution_count": null,
   "id": "74e5b753",
   "metadata": {},
   "outputs": [],
   "source": [
    "#load datagrame produced in dt_uncertainty\n",
    "result_df = pd.read_csv(\"Result.csv\")"
   ]
  },
  {
   "cell_type": "code",
   "execution_count": null,
   "id": "f7b0522f",
   "metadata": {},
   "outputs": [],
   "source": [
    "def calc_sys_wheel_station(row, coordinate, ax1=0, ax2=0, min_nMuons=100):\n",
    "    '''Function to calculate systematics for one row of the dataframe.'''\n",
    "    #make temporary df out of wheel and station seleciton\n",
    "    print(\"Solving for {}/{}\".format(row.wheel, row.station))\n",
    "    tdf = select_sectors(result_df, row.wheel, row.station)\n",
    "    tdf = tdf[tdf.nMuons_mean>min_nMuons]\n",
    "    #fit stat curve\n",
    "    hesse_unc_string = \"hesse_unc_{}\".format(coordinate)\n",
    "    popt_stat, pcov_stat = curve_fit(standard_error, tdf.nMuons_mean, tdf[hesse_unc_string])\n",
    "    #fit sys curve\n",
    "    std_name = \"{} std\".format(coordinate)\n",
    "    def fit_sys(x, sys, scale): \n",
    "        '''Wrapper to account for seperate fit. Scale added in '''\n",
    "        return scale * std_err_sys(x, *popt_stat, sys)\n",
    "    popt_sys, pcov_sys = curve_fit(fit_sys, tdf.nMuons_mean, tdf[std_name], bounds=(0,999))\n",
    "    #create x range for plotting\n",
    "    x = np.linspace(min(tdf.nMuons_mean), max(tdf.nMuons_mean), 100)   \n",
    "    #plot fit stats\n",
    "    if ax1:\n",
    "        ax1.scatter(tdf.nMuons_mean, tdf[hesse_unc_string], label=\"Minuit Unc.\")\n",
    "        ax1.plot(x, standard_error(x,*popt_stat), label=\"Minuit Unc. Fit\")\n",
    "    #plot fit sys\n",
    "    if ax2:\n",
    "        ax2.scatter(tdf.nMuons_mean, tdf[std_name], label=\"Measured Unc.\")\n",
    "        ax2.plot(x, fit_sys(x,*popt_sys), label=\"Measured Unc. Fit\")    \n",
    "    #\n",
    "    #format ax\n",
    "    #\n",
    "    if ax1: ax1.legend()\n",
    "    if ax2: ax2.legend()\n",
    "    return pd.Series({\"wheel\": row.wheel, \"station\":row.station, \"sigma\": popt_stat[0], \"sys\": popt_sys[0],  \"scale\": popt_sys[1]})"
   ]
  },
  {
   "cell_type": "code",
   "execution_count": null,
   "id": "01739e20",
   "metadata": {},
   "outputs": [],
   "source": [
    "# figure to show all fits for all wheel/station\n",
    "fit_list = []\n",
    "fig, ax = plt.subplots(4,3, figsize=(15,15))\n",
    "for i, station_axs in enumerate(ax):\n",
    "    #reverse station order for aesthetics\n",
    "    station = 4 - i\n",
    "    for j, ax in enumerate(station_axs):\n",
    "        wheel = j\n",
    "        tdf = pd.Series({\"wheel\": wheel, \"station\":station})\n",
    "        #run fit\n",
    "        fit_series = calc_sys_wheel_station(tdf, \"x\", ax1=ax, ax2=ax)\n",
    "        fit_list.append(fit_series)\n",
    "        #format ax\n",
    "        ax.set_xlabel(\"n Muons (average)\")\n",
    "        ax.set_ylabel(\"[cm])\")\n",
    "        ax.legend(title=\"{}/{}\".format(wheel, station))\n",
    "fig.savefig(\"output/wheel_station_fits_method2.pdf\")"
   ]
  },
  {
   "cell_type": "code",
   "execution_count": null,
   "id": "2129e51c",
   "metadata": {},
   "outputs": [],
   "source": [
    "# So elegant, but it's hard to draw the fit plots this way:\n",
    "#fits = wheel_stations_df.apply(lambda x: calc_sys_wheel_station(x, \"x\"), axis=1)\n",
    "fits = pd.DataFrame(fit_list)\n",
    "#scale the sys param by the scale factor\n",
    "fits['scalled_sys'] = fits.sys*fits.scale"
   ]
  },
  {
   "cell_type": "code",
   "execution_count": null,
   "id": "1d62618b",
   "metadata": {},
   "outputs": [],
   "source": [
    "#plot sys and stat plots as function of wheel and station\n",
    "wheel_bins = np.linspace(-.5,2.5, 4)\n",
    "station_bins = np.linspace(.5,4.5, 5)\n",
    "fig, ax = plt.subplots(1,2, figsize=(12,6))\n",
    "#sys plot\n",
    "counts, xedges, yedges, im = ax[0].hist2d(fits.wheel, fits.station, weights=fits.scalled_sys,\n",
    "          bins = [wheel_bins, station_bins])\n",
    "fig.colorbar(im, ax=ax[0])\n",
    "#stat plot\n",
    "counts, xedges, yedges, im = ax[1].hist2d(fits.wheel, fits.station, weights=fits.sigma,\n",
    "          bins = [wheel_bins, station_bins])\n",
    "fig.colorbar(im, ax=ax[1])\n",
    "#format plots\n",
    "def format_ax(title, ax):\n",
    "    ax.set_title(title) \n",
    "    ax.set_yticks([1,2,3,4])\n",
    "    ax.set_ylabel('Station')\n",
    "    ax.set_xticks([0,1,2])\n",
    "    ax.set_xlabel('Wheel')\n",
    "format_ax(\"Sys. Width [cm]\", ax[0])\n",
    "format_ax(\"Sigma [cm] (statistical uncertainty)\", ax[1])\n",
    "fig.savefig('output/sys_sigma_overview_method2.pdf')"
   ]
  },
  {
   "cell_type": "code",
   "execution_count": null,
   "id": "b1cfbd03",
   "metadata": {},
   "outputs": [],
   "source": [
    "fits"
   ]
  }
 ],
 "metadata": {
  "kernelspec": {
   "display_name": "Python 3",
   "language": "python",
   "name": "python3"
  },
  "language_info": {
   "codemirror_mode": {
    "name": "ipython",
    "version": 3
   },
   "file_extension": ".py",
   "mimetype": "text/x-python",
   "name": "python",
   "nbconvert_exporter": "python",
   "pygments_lexer": "ipython3",
   "version": "3.9.6"
  }
 },
 "nbformat": 4,
 "nbformat_minor": 5
}
