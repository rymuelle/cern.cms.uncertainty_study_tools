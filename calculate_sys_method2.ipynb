{
 "cells": [
  {
   "cell_type": "code",
   "execution_count": null,
   "id": "162c1d14",
   "metadata": {},
   "outputs": [],
   "source": [
    "import numpy as np\n",
    "import pandas as pd\n",
    "import matplotlib.pyplot as plt\n",
    "from scipy.optimize import curve_fit\n",
    "#import mplhep as hep\n",
    "%load_ext autoreload\n",
    "%autoreload 2\n",
    "import re"
   ]
  },
  {
   "cell_type": "code",
   "execution_count": null,
   "id": "5f09c94c",
   "metadata": {},
   "outputs": [],
   "source": [
    "from unc_stdy.utils import select_sectors\n",
    "from unc_stdy.fit_func import standard_error, std_err_sys\n",
    "from unc_stdy.common_objects import wheel_stations_df"
   ]
  },
  {
   "cell_type": "code",
   "execution_count": null,
   "id": "8264d5f5",
   "metadata": {},
   "outputs": [],
   "source": [
    "#set scientific notation\n",
    "pd.set_option('display.float_format', lambda x: '%.2e' % x)"
   ]
  },
  {
   "cell_type": "code",
   "execution_count": null,
   "id": "083556ca",
   "metadata": {},
   "outputs": [],
   "source": [
    "#load datagrame produced in dt_uncertainty\n",
    "result_df = pd.read_csv(\"Result.csv\")"
   ]
  },
  {
   "cell_type": "code",
   "execution_count": null,
   "id": "bdc699f7",
   "metadata": {},
   "outputs": [],
   "source": [
    "def match_old_name(name):\n",
    "    return bool(re.match('SM+.',name))\n",
    "result_df['old_name'] = result_df.name.apply(match_old_name)"
   ]
  },
  {
   "cell_type": "code",
   "execution_count": null,
   "id": "846bf3f5",
   "metadata": {},
   "outputs": [],
   "source": [
    "#result_df = result_df[result_df.old_name==True]"
   ]
  },
  {
   "cell_type": "code",
   "execution_count": null,
   "id": "cb8fbefa",
   "metadata": {},
   "outputs": [],
   "source": [
    "def calc_sys_wheel_station(row, coordinate, ax1=0, ax2=0, min_nMuons=100):\n",
    "    '''Function to calculate systematics for one row of the dataframe.'''\n",
    "    #make temporary df out of wheel and station seleciton\n",
    "    print(\"Solving for {}/{}\".format(row.wheel, row.station))\n",
    "    tdf = select_sectors(result_df, row.wheel, row.station)\n",
    "    tdf = tdf[tdf.nMuons_mean>min_nMuons]\n",
    "    #fit stat curve\n",
    "    hesse_unc_string = \"hesse_unc_{}\".format(coordinate)\n",
    "    popt_stat, pcov_stat = curve_fit(standard_error, tdf.nMuons_mean, tdf[hesse_unc_string])\n",
    "    #fit sys curve\n",
    "    std_name = \"{} std\".format(coordinate)\n",
    "    unc_name = \"{} std unc\".format(coordinate)\n",
    "    def fit_sys(x, sys, scale): \n",
    "        '''Wrapper to account for seperate fit. Scale added in '''\n",
    "        return scale * std_err_sys(x, *popt_stat, sys)\n",
    "    unc = tdf[unc_name]+1e-12\n",
    "    #unc = unc**2\n",
    "    popt_sys, pcov_sys = curve_fit(fit_sys, tdf.nMuons_mean, tdf[std_name], sigma=unc, bounds=(0,999))\n",
    "    popt_std_err_sys, pcov_std_err_sys = curve_fit(std_err_sys, tdf.nMuons_mean, tdf[std_name], sigma=unc, bounds=(0,999))\n",
    "    print(popt_std_err_sys, popt_sys)\n",
    "    #create x range for plotting\n",
    "    x = np.linspace(min(tdf.nMuons_mean), max(tdf.nMuons_mean), 100)   \n",
    "    #plot fit stats\n",
    "    if ax1:\n",
    "        ax1.scatter(tdf.nMuons_mean, tdf[hesse_unc_string], label=\"Minuit Unc.\")\n",
    "        ax1.plot(x, standard_error(x,*popt_stat), label=\"Minuit Unc. Fit\")\n",
    "    #plot fit sys\n",
    "    if ax2:\n",
    "        ax2.scatter(tdf.nMuons_mean, tdf[std_name], label=\"Measured Unc.\")\n",
    "        ax2.errorbar(tdf.nMuons_mean, tdf[std_name], yerr=unc, linestyle=\"none\")\n",
    "        ax2.plot(x, fit_sys(x,*popt_sys), label=\"Measured Unc. Fit\")  \n",
    "        \n",
    "        ax2.plot(x, std_err_sys(x,*popt_std_err_sys), label=\"Measured Unc. Fit no hesse\")  \n",
    "    #\n",
    "    #format ax\n",
    "    #\n",
    "    if ax1: ax1.legend()\n",
    "    if ax2: ax2.legend()\n",
    "    return pd.Series({\"wheel\": row.wheel, \"station\":row.station, \n",
    "                      \"sigma\": popt_stat[0], \"sys\": popt_sys[0],  \"scale\": popt_sys[1], \n",
    "                     \"sigma_no_hesse\":popt_std_err_sys[0], \"sys_no_hesse\":popt_std_err_sys[1]})"
   ]
  },
  {
   "cell_type": "code",
   "execution_count": null,
   "id": "11bf4aa1",
   "metadata": {},
   "outputs": [],
   "source": [
    "# figure to show all fits for all wheel/station\n",
    "fit_list = []\n",
    "fig, axs = plt.subplots(4,3, figsize=(30,30))\n",
    "for i, station_axs in enumerate(axs):\n",
    "    #reverse station order for aesthetics\n",
    "    station = 4 - i\n",
    "    for j, ax in enumerate(station_axs):\n",
    "        wheel = j\n",
    "        tdf = pd.Series({\"wheel\": wheel, \"station\":station})\n",
    "        #run fit\n",
    "        fit_series = calc_sys_wheel_station(tdf, \"y\", ax1=ax, ax2=ax, min_nMuons=100)\n",
    "        fit_list.append(fit_series)\n",
    "        #format ax\n",
    "        #ax.set_yscale('log')\n",
    "        ax.set_xlabel(\"n Muons (average)\")\n",
    "        ax.set_ylabel(\"[cm])\")\n",
    "        ax.legend(title=\"{}/{}\".format(wheel, station))\n",
    "fig.savefig(\"output/wheel_station_fits_method2.pdf\")"
   ]
  },
  {
   "cell_type": "code",
   "execution_count": null,
   "id": "f74a77ed",
   "metadata": {},
   "outputs": [],
   "source": [
    "# So elegant, but it's hard to draw the fit plots this way:\n",
    "#fits = wheel_stations_df.apply(lambda x: calc_sys_wheel_station(x, \"x\"), axis=1)\n",
    "fits = pd.DataFrame(fit_list)\n",
    "#scale the sys param by the scale factor\n",
    "fits['scalled_sys'] = fits.sys*fits.scale"
   ]
  },
  {
   "cell_type": "code",
   "execution_count": null,
   "id": "b25ba3a0",
   "metadata": {},
   "outputs": [],
   "source": [
    "fits"
   ]
  },
  {
   "cell_type": "code",
   "execution_count": null,
   "id": "4964a311",
   "metadata": {},
   "outputs": [],
   "source": [
    "#plot sys and stat plots as function of wheel and station\n",
    "wheel_bins = np.linspace(-.5,2.5, 4)\n",
    "station_bins = np.linspace(.5,4.5, 5)\n",
    "fig, ax = plt.subplots(1,2, figsize=(12,6))\n",
    "#sys plot\n",
    "counts, xedges, yedges, im = ax[0].hist2d(fits.wheel, fits.station, weights=fits.sys_no_hesse,\n",
    "          bins = [wheel_bins, station_bins])\n",
    "fig.colorbar(im, ax=ax[0])\n",
    "#stat plot\n",
    "counts, xedges, yedges, im = ax[1].hist2d(fits.wheel, fits.station, weights=fits.sigma_no_hesse,\n",
    "          bins = [wheel_bins, station_bins])\n",
    "fig.colorbar(im, ax=ax[1])\n",
    "#format plots\n",
    "def format_ax(title, ax):\n",
    "    ax.set_title(title) \n",
    "    ax.set_yticks([1,2,3,4])\n",
    "    ax.set_ylabel('Station')\n",
    "    ax.set_xticks([0,1,2])\n",
    "    ax.set_xlabel('Wheel')\n",
    "format_ax(\"Sys. Width [cm]\", ax[0])\n",
    "format_ax(\"Sigma [cm] (statistical uncertainty)\", ax[1])\n",
    "fig.savefig('output/sys_sigma_overview_method2.pdf')"
   ]
  },
  {
   "cell_type": "code",
   "execution_count": null,
   "id": "030dffd5",
   "metadata": {},
   "outputs": [],
   "source": [
    "fits"
   ]
  },
  {
   "cell_type": "code",
   "execution_count": null,
   "id": "2ed0de07",
   "metadata": {},
   "outputs": [],
   "source": [
    "print(fits.to_latex())"
   ]
  },
  {
   "cell_type": "code",
   "execution_count": null,
   "id": "2f067d10",
   "metadata": {},
   "outputs": [],
   "source": [
    "def stat_limited(row):\n",
    "    return (row.sigma/row.sys)**2"
   ]
  },
  {
   "cell_type": "code",
   "execution_count": null,
   "id": "1f3e3500",
   "metadata": {},
   "outputs": [],
   "source": [
    "fits['stat_limited_counts'] = fits.apply(stat_limited, axis=1)"
   ]
  },
  {
   "cell_type": "code",
   "execution_count": null,
   "id": "318ccb56",
   "metadata": {},
   "outputs": [],
   "source": [
    "fits[fits.wheel==2]"
   ]
  },
  {
   "cell_type": "code",
   "execution_count": null,
   "id": "0445519c",
   "metadata": {},
   "outputs": [],
   "source": []
  }
 ],
 "metadata": {
  "kernelspec": {
   "display_name": "Python 3",
   "language": "python",
   "name": "python3"
  },
  "language_info": {
   "codemirror_mode": {
    "name": "ipython",
    "version": 3
   },
   "file_extension": ".py",
   "mimetype": "text/x-python",
   "name": "python",
   "nbconvert_exporter": "python",
   "pygments_lexer": "ipython3",
   "version": "3.9.6"
  }
 },
 "nbformat": 4,
 "nbformat_minor": 5
}
