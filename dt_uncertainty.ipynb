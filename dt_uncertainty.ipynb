{
 "cells": [
  {
   "cell_type": "code",
   "execution_count": null,
   "id": "27396309",
   "metadata": {},
   "outputs": [],
   "source": [
    "import numpy as np\n",
    "import pandas as pd\n",
    "from math import isnan\n",
    "import re\n",
    "import matplotlib.pyplot as plt\n",
    "from ape_producer.geom_reader import create_geom_df\n",
    "from ape_producer.parse_report import make_cov_objects\n",
    "from ape_producer.sign_conventions import signConventions, square_coordinates\n",
    "from scipy.optimize import curve_fit\n",
    "import os\n",
    "import glob\n",
    "#import mplhep as hep\n",
    "%load_ext autoreload\n",
    "%autoreload 2\n",
    "pd.set_option('display.max_rows', 500)"
   ]
  },
  {
   "cell_type": "code",
   "execution_count": null,
   "id": "1b6ddc21",
   "metadata": {},
   "outputs": [],
   "source": [
    "import glob\n",
    "from importlib import import_module\n",
    "from ape_producer.parse_report import make_cov_objects, square_array\n",
    "import numpy as np\n",
    "import pandas as pd\n",
    "import re"
   ]
  },
  {
   "cell_type": "code",
   "execution_count": null,
   "id": "45668b6e",
   "metadata": {},
   "outputs": [],
   "source": [
    "####\n",
    "## Helper functions\n",
    "####"
   ]
  },
  {
   "cell_type": "code",
   "execution_count": null,
   "id": "d1197530",
   "metadata": {},
   "outputs": [],
   "source": [
    "def sel_wheel_station(df, wheel, station):\n",
    "    return df[(df.wheel==wheel) &  (df.station==station)]"
   ]
  },
  {
   "cell_type": "code",
   "execution_count": null,
   "id": "cc8b96cb",
   "metadata": {},
   "outputs": [],
   "source": [
    "def select_sectors(df, wheel, station):\n",
    "    return df[(df.wheel==wheel) & (df.station==station)]"
   ]
  },
  {
   "cell_type": "code",
   "execution_count": null,
   "id": "997b008c",
   "metadata": {},
   "outputs": [],
   "source": [
    "wheel_station = [[-2,  1],\n",
    "       [-2,  2],\n",
    "       [-2,  3],\n",
    "       [-2,  4],\n",
    "       [-1,  1],\n",
    "       [-1,  2],\n",
    "       [-1,  3],\n",
    "       [-1,  4],\n",
    "       [ 0,  1],\n",
    "       [ 0,  2],\n",
    "       [ 0,  3],\n",
    "       [ 0,  4],\n",
    "       [ 1,  1],\n",
    "       [ 1,  2],\n",
    "       [ 1,  3],\n",
    "       [ 1,  4],\n",
    "       [ 2,  1],\n",
    "       [ 2,  2],\n",
    "       [ 2,  3],\n",
    "       [ 2,  4]]\n",
    "alignables = ['x','y','z','phix', 'phiy', 'phiz']\n"
   ]
  },
  {
   "cell_type": "code",
   "execution_count": null,
   "id": "5407570d",
   "metadata": {},
   "outputs": [],
   "source": [
    "####\n",
    "##create list of xmls and reports that we want\n",
    "###"
   ]
  },
  {
   "cell_type": "code",
   "execution_count": null,
   "id": "f210627d",
   "metadata": {},
   "outputs": [],
   "source": [
    "re_xmls = [\n",
    "    \"data/SM_10_6_.+.xml\",\n",
    "    'data/design_10_6_.+.xml'\n",
    "]\n",
    "re_report = [\n",
    "    \"data/SM_10_6_.+.py\",\n",
    "    'data/design_10_6_.+.py'\n",
    "]\n",
    "def match_re(re_list, string):\n",
    "    for re_string in re_list:\n",
    "        if bool(re.match(re_string, string)): return 1\n",
    "    return 0\n",
    "files = glob.glob('data/*')\n",
    "xml_files = [file for file in files if match_re(re_xmls, file)]\n",
    "report_files = [file for file in files if match_re(re_report, file)]"
   ]
  },
  {
   "cell_type": "code",
   "execution_count": null,
   "id": "332edcec",
   "metadata": {},
   "outputs": [],
   "source": [
    "####\n",
    "## Now, we create the report.py dataframe\n",
    "####"
   ]
  },
  {
   "cell_type": "code",
   "execution_count": null,
   "id": "ed0024e4",
   "metadata": {},
   "outputs": [],
   "source": [
    "#format files as modules\n",
    "modules = [f.replace('/', '.').replace('.py','') for f in report_files]"
   ]
  },
  {
   "cell_type": "code",
   "execution_count": null,
   "id": "3ca2a8bd",
   "metadata": {},
   "outputs": [],
   "source": [
    "def get_report(module_name):\n",
    "    return import_module(module_name).reports"
   ]
  },
  {
   "cell_type": "code",
   "execution_count": null,
   "id": "c8b449f4",
   "metadata": {},
   "outputs": [],
   "source": [
    "def make_hesse_df_dt(df):\n",
    "    hesse_list = []\n",
    "    for wheel, station in wheel_station:\n",
    "        tdf = sel_wheel_station(df,wheel,station)\n",
    "        covMatrix = tdf.covMatrix.mean()\n",
    "        hess_stds = np.diagonal(covMatrix)**.5\n",
    "        nMuons, nMuonsStD = tdf.nMuons.mean(), tdf.nMuons.std()\n",
    "        hesse_list.append({\"wheel\": wheel, \"station\": station,\"nMuons_mean\": nMuons, \"nMuons_std\":nMuonsStD, **{'hesse_unc_'+dim:hess for hess, dim in zip(hess_stds, alignables)}})\n",
    "    hesse_df = pd.DataFrame(hesse_list)\n",
    "    return hesse_df"
   ]
  },
  {
   "cell_type": "code",
   "execution_count": null,
   "id": "c1d98254",
   "metadata": {},
   "outputs": [],
   "source": [
    "def make_summary_report_df(module_name, njobs):\n",
    "    report_ex = get_report(module_name)\n",
    "    dt_cov_df, csc_cov_df = make_cov_objects(report_ex, debug=False)\n",
    "    df = make_hesse_df_dt(dt_cov_df)\n",
    "    df['njobs']= njobs\n",
    "    df['name']= module_name.split('.')[1].replace('_report_','_')\n",
    "    return df"
   ]
  },
  {
   "cell_type": "code",
   "execution_count": null,
   "id": "2630042f",
   "metadata": {},
   "outputs": [],
   "source": [
    "def number_from_name(name):\n",
    "    return int(re.findall('report_(\\d+)', name)[0])"
   ]
  },
  {
   "cell_type": "code",
   "execution_count": null,
   "id": "aaf4187b",
   "metadata": {},
   "outputs": [],
   "source": [
    "stats_df = pd.DataFrame()\n",
    "for module in modules:\n",
    "    print(module)\n",
    "    df = make_summary_report_df(module, number_from_name(module))\n",
    "    stats_df = stats_df.append(df)"
   ]
  },
  {
   "cell_type": "code",
   "execution_count": null,
   "id": "b7ce7745",
   "metadata": {},
   "outputs": [],
   "source": [
    "####\n",
    "## Make xml df\n",
    "####"
   ]
  },
  {
   "cell_type": "code",
   "execution_count": null,
   "id": "309873c7",
   "metadata": {},
   "outputs": [],
   "source": [
    "# calculating sigma and ucn\n",
    "from scipy.optimize import curve_fit\n",
    "from scipy.stats import rv_continuous\n",
    "from scipy.stats import norm\n",
    "import uncertainties \n",
    "def calc_likelihood(x, width):\n",
    "    return np.product(norm.pdf(x,0,width))\n",
    "def norm_fit(x, c, scale):\n",
    "    return c*norm.pdf(x, loc=0, scale=scale)\n",
    "def calc_uncertainty(mean, width, values):\n",
    "    offsets = np.linspace(-width+1e-10,width,100)\n",
    "    liklihoods = np.array(list(map(lambda y: calc_likelihood(values, width+y), offsets)))\n",
    "    liklihoods = np.array(liklihoods)/np.sum(liklihoods)\n",
    "    try:\n",
    "        popt, pcov = curve_fit(norm_fit, offsets, liklihoods ,maxfev = int(1e4) )\n",
    "    except:\n",
    "        plt.plot(offsets, liklihoods)\n",
    "        print(offsets, liklihoods, values)\n",
    "    return popt[1]\n",
    "\n",
    "fit = False\n",
    "if fit:\n",
    "    def sigma_and_unc(key, *args):\n",
    "        values = select_sectors(*args)[key]\n",
    "        mean, width = norm.fit(values, floc=0)\n",
    "        unc = calc_uncertainty(mean, width, values)\n",
    "        return uncertainties.ufloat(width, unc)\n",
    "else:\n",
    "    def sigma_and_unc(key, *args):\n",
    "        values = select_sectors(*args)[key]\n",
    "        sigma = np.mean(values**2)**.5\n",
    "        unc =  sigma/(2*len(values)-2)**.5\n",
    "        return uncertainties.ufloat(sigma, unc)"
   ]
  },
  {
   "cell_type": "code",
   "execution_count": null,
   "id": "b2823d26",
   "metadata": {},
   "outputs": [],
   "source": [
    "xml_files\n",
    "xml_list = []\n",
    "for xml_file in xml_files:\n",
    "    xml_name = xml_file.split('/')[1].replace('.xml','')\n",
    "    dt_df, csc_df = create_geom_df(xml_file)\n",
    "    for i in range(-2, 3):\n",
    "        for j in range (1, 5):\n",
    "            dim_dict = {}\n",
    "            for dim in ['x', 'y', 'z', 'phix', 'phiy', 'phiz']:\n",
    "                ufloat = sigma_and_unc(dim, dt_df, i, j)\n",
    "                dim_dict[\"{} std\".format(dim)] =  ufloat.nominal_value\n",
    "                dim_dict[\"{} std unc\".format(dim)] =  ufloat.std_dev\n",
    "            row_dict = {'wheel':i, 'station':j, 'name':xml_name, **dim_dict}\n",
    "            xml_list.append(row_dict)\n",
    "xml_df = pd.DataFrame(xml_list)\n"
   ]
  },
  {
   "cell_type": "code",
   "execution_count": null,
   "id": "ebb1d106",
   "metadata": {},
   "outputs": [],
   "source": [
    "Result = pd.merge(xml_df,stats_df)"
   ]
  },
  {
   "cell_type": "code",
   "execution_count": null,
   "id": "3d3ce86b",
   "metadata": {},
   "outputs": [],
   "source": [
    "Result.to_csv('Result.csv')"
   ]
  },
  {
   "cell_type": "code",
   "execution_count": null,
   "id": "ac9cf54a",
   "metadata": {},
   "outputs": [],
   "source": [
    "Result"
   ]
  },
  {
   "cell_type": "code",
   "execution_count": null,
   "id": "4c821913",
   "metadata": {},
   "outputs": [],
   "source": []
  }
 ],
 "metadata": {
  "kernelspec": {
   "display_name": "Python 3",
   "language": "python",
   "name": "python3"
  },
  "language_info": {
   "codemirror_mode": {
    "name": "ipython",
    "version": 3
   },
   "file_extension": ".py",
   "mimetype": "text/x-python",
   "name": "python",
   "nbconvert_exporter": "python",
   "pygments_lexer": "ipython3",
   "version": "3.9.6"
  }
 },
 "nbformat": 4,
 "nbformat_minor": 5
}
