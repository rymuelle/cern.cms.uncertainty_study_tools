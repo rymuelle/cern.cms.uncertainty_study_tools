{
 "cells": [
  {
   "cell_type": "code",
   "execution_count": null,
   "id": "27396309",
   "metadata": {},
   "outputs": [],
   "source": [
    "import numpy as np\n",
    "import pandas as pd\n",
    "from math import isnan\n",
    "import re\n",
    "import matplotlib.pyplot as plt\n",
    "from ape_producer.geom_reader import create_geom_df\n",
    "from ape_producer.parse_report import make_cov_objects\n",
    "from ape_producer.sign_conventions import signConventions, square_coordinates\n",
    "from scipy.optimize import curve_fit\n",
    "#import mplhep as hep\n",
    "%load_ext autoreload\n",
    "%autoreload 2\n",
    "pd.set_option('display.max_rows', 500)"
   ]
  },
  {
   "cell_type": "code",
   "execution_count": null,
   "id": "cc8b96cb",
   "metadata": {},
   "outputs": [],
   "source": [
    "def select_sectors(df, wheel, station):\n",
    "    return df[(df.wheel==wheel) & (df.station==station)]"
   ]
  },
  {
   "cell_type": "code",
   "execution_count": null,
   "id": "b5c4ce3d",
   "metadata": {},
   "outputs": [],
   "source": [
    "xmlFileAlign_new_2 = 'data/SM_10_6_01_2.xml'\n",
    "xmlFileAlign_new_4 = 'data/SM_10_6_01_4.xml'\n",
    "xmlFileAlign_new_8 = 'data/SM_10_6_01_8.xml'\n",
    "xmlFileAlign_new_16 = 'data/SM_10_6_01_16.xml'\n",
    "xmlFileAlign_new_31 = 'data/SM_10_6_01_31.xml'\n",
    "xmlFileAlign_new_62 = 'data/SM_10_6_01_62.xml'\n",
    "xmlFileAlign_new_125 = 'data/SM_10_6_01_125.xml'\n",
    "xmlFileAlign_new_250 = 'data/SM_10_6_01_250.xml'\n",
    "xmlFileAlign_new_500 = 'data/SM_10_6_01_500.xml'"
   ]
  },
  {
   "cell_type": "code",
   "execution_count": null,
   "id": "27f6cad9",
   "metadata": {},
   "outputs": [],
   "source": [
    "RyanData = pd.DataFrame()\n",
    "RyanData = pd.read_csv(\"data/nmuon_hesse_df.csv\") \n",
    "RyanData= RyanData.astype(float)\n",
    "RyanData = RyanData.apply(pd.to_numeric)"
   ]
  },
  {
   "cell_type": "code",
   "execution_count": null,
   "id": "3fe48235",
   "metadata": {},
   "outputs": [],
   "source": [
    "aligned_geom_dt_2, aligned_geom_csc_2  = create_geom_df(xmlFileAlign_new_2)\n",
    "aligned_geom_dt_4, aligned_geom_csc_4  = create_geom_df(xmlFileAlign_new_4)\n",
    "aligned_geom_dt_8, aligned_geom_csc_8  = create_geom_df(xmlFileAlign_new_8)\n",
    "aligned_geom_dt_16, aligned_geom_csc_16  = create_geom_df(xmlFileAlign_new_16)\n",
    "aligned_geom_dt_31, aligned_geom_csc_31  = create_geom_df(xmlFileAlign_new_31)\n",
    "aligned_geom_dt_62, aligned_geom_csc_62  = create_geom_df(xmlFileAlign_new_62)\n",
    "aligned_geom_dt_125, aligned_geom_csc_125  = create_geom_df(xmlFileAlign_new_125)\n",
    "aligned_geom_dt_250, aligned_geom_csc_250 = create_geom_df(xmlFileAlign_new_250)\n",
    "aligned_geom_dt_500, aligned_geom_csc_500  = create_geom_df(xmlFileAlign_new_500)"
   ]
  },
  {
   "cell_type": "code",
   "execution_count": null,
   "id": "05abe8ba",
   "metadata": {},
   "outputs": [],
   "source": [
    "aligned_geom_dt_2['njobs'] = 2\n",
    "aligned_geom_dt_4['njobs'] = 4\n",
    "aligned_geom_dt_8['njobs'] = 8\n",
    "aligned_geom_dt_16['njobs'] = 16\n",
    "aligned_geom_dt_31['njobs'] = 31\n",
    "aligned_geom_dt_62['njobs'] = 62\n",
    "aligned_geom_dt_125['njobs'] = 125\n",
    "aligned_geom_dt_250['njobs'] = 250\n",
    "aligned_geom_dt_500['njobs'] = 500"
   ]
  },
  {
   "cell_type": "code",
   "execution_count": null,
   "id": "c142ab47",
   "metadata": {},
   "outputs": [],
   "source": [
    "ReturnsDF=pd.DataFrame()\n",
    "for i in range(-2, 3):\n",
    "    for j in range (1, 5):\n",
    "        xpd = pd.DataFrame()\n",
    "        xpd = {'returns:':'500','wheel':i, 'station':j, 'x std':select_sectors(aligned_geom_dt_500, i, j).std()[3],'y std':select_sectors(aligned_geom_dt_500, i, j).std()[4],'z std':select_sectors(aligned_geom_dt_500, i, j).std()[5],'phix std':select_sectors(aligned_geom_dt_500, i, j).std()[6],'phiy std':select_sectors(aligned_geom_dt_500, i, j).std()[7], 'phiz std':select_sectors(aligned_geom_dt_500, i, j).std()[8] }\n",
    "        ReturnsDF=ReturnsDF.append(xpd,ignore_index=True)\n",
    "        xpd = {'returns:':'250','wheel':i, 'station':j, 'x std':select_sectors(aligned_geom_dt_250, i, j).std()[3],'y std':select_sectors(aligned_geom_dt_250, i, j).std()[4],'z std':select_sectors(aligned_geom_dt_250, i, j).std()[5],'phix std':select_sectors(aligned_geom_dt_250, i, j).std()[6],'phiy std':select_sectors(aligned_geom_dt_250, i, j).std()[7], 'phiz std':select_sectors(aligned_geom_dt_250, i, j).std()[8] }\n",
    "        ReturnsDF=ReturnsDF.append(xpd,ignore_index=True)\n",
    "        xpd = {'returns:':'125','wheel':i, 'station':j, 'x std':select_sectors(aligned_geom_dt_125, i, j).std()[3],'y std':select_sectors(aligned_geom_dt_125, i, j).std()[4],'z std':select_sectors(aligned_geom_dt_125, i, j).std()[5],'phix std':select_sectors(aligned_geom_dt_125, i, j).std()[6],'phiy std':select_sectors(aligned_geom_dt_125, i, j).std()[7], 'phiz std':select_sectors(aligned_geom_dt_125, i, j).std()[8] }\n",
    "        ReturnsDF=ReturnsDF.append(xpd,ignore_index=True)\n",
    "        xpd = {'returns:':'62','wheel':i, 'station':j, 'x std':select_sectors(aligned_geom_dt_62, i, j).std()[3],'y std':select_sectors(aligned_geom_dt_62, i, j).std()[4],'z std':select_sectors(aligned_geom_dt_62, i, j).std()[5],'phix std':select_sectors(aligned_geom_dt_62, i, j).std()[6],'phiy std':select_sectors(aligned_geom_dt_62, i, j).std()[7], 'phiz std':select_sectors(aligned_geom_dt_62, i, j).std()[8] }\n",
    "        ReturnsDF=ReturnsDF.append(xpd,ignore_index=True)\n",
    "        xpd = {'returns:':'31','wheel':i, 'station':j, 'x std':select_sectors(aligned_geom_dt_31, i, j).std()[3],'y std':select_sectors(aligned_geom_dt_31, i, j).std()[4],'z std':select_sectors(aligned_geom_dt_31, i, j).std()[5],'phix std':select_sectors(aligned_geom_dt_31, i, j).std()[6],'phiy std':select_sectors(aligned_geom_dt_31, i, j).std()[7], 'phiz std':select_sectors(aligned_geom_dt_31, i, j).std()[8] }\n",
    "        ReturnsDF=ReturnsDF.append(xpd,ignore_index=True)\n",
    "        xpd = {'returns:':'16','wheel':i, 'station':j, 'x std':select_sectors(aligned_geom_dt_16, i, j).std()[3],'y std':select_sectors(aligned_geom_dt_16, i, j).std()[4],'z std':select_sectors(aligned_geom_dt_16, i, j).std()[5],'phix std':select_sectors(aligned_geom_dt_16, i, j).std()[6],'phiy std':select_sectors(aligned_geom_dt_16, i, j).std()[7], 'phiz std':select_sectors(aligned_geom_dt_16, i, j).std()[8] }\n",
    "        ReturnsDF=ReturnsDF.append(xpd,ignore_index=True)\n",
    "        xpd = {'returns:':'8','wheel':i, 'station':j, 'x std':select_sectors(aligned_geom_dt_8, i, j).std()[3],'y std':select_sectors(aligned_geom_dt_8, i, j).std()[4],'z std':select_sectors(aligned_geom_dt_8, i, j).std()[5],'phix std':select_sectors(aligned_geom_dt_8, i, j).std()[6],'phiy std':select_sectors(aligned_geom_dt_8, i, j).std()[7], 'phiz std':select_sectors(aligned_geom_dt_8, i, j).std()[8] }\n",
    "        ReturnsDF=ReturnsDF.append(xpd,ignore_index=True)\n",
    "        xpd = {'returns:':'4','wheel':i, 'station':j, 'x std':select_sectors(aligned_geom_dt_4, i, j).std()[3],'y std':select_sectors(aligned_geom_dt_4, i, j).std()[4],'z std':select_sectors(aligned_geom_dt_4, i, j).std()[5],'phix std':select_sectors(aligned_geom_dt_4, i, j).std()[6],'phiy std':select_sectors(aligned_geom_dt_4, i, j).std()[7], 'phiz std':select_sectors(aligned_geom_dt_4, i, j).std()[8] }\n",
    "        ReturnsDF=ReturnsDF.append(xpd,ignore_index=True)\n",
    "        xpd = {'returns:':'2','wheel':i, 'station':j, 'x std':select_sectors(aligned_geom_dt_2, i, j).std()[3],'y std':select_sectors(aligned_geom_dt_2, i, j).std()[4],'z std':select_sectors(aligned_geom_dt_2, i, j).std()[5],'phix std':select_sectors(aligned_geom_dt_2, i, j).std()[6],'phiy std':select_sectors(aligned_geom_dt_2, i, j).std()[7], 'phiz std':select_sectors(aligned_geom_dt_2, i, j).std()[8] }\n",
    "        ReturnsDF=ReturnsDF.append(xpd,ignore_index=True)\n",
    "        ReturnsDF=ReturnsDF[[\"returns:\", \"wheel\", 'station', 'x std', 'y std', 'z std', 'phix std', 'phiy std', 'phiz std']]\n",
    "\n",
    "        ReturnsDF = ReturnsDF.apply(pd.to_numeric)\n"
   ]
  },
  {
   "cell_type": "code",
   "execution_count": null,
   "id": "067a3a98",
   "metadata": {},
   "outputs": [],
   "source": [
    "Result = pd.merge(RyanData, ReturnsDF)"
   ]
  },
  {
   "cell_type": "code",
   "execution_count": null,
   "id": "71b98c72",
   "metadata": {},
   "outputs": [],
   "source": [
    "Result"
   ]
  },
  {
   "cell_type": "code",
   "execution_count": null,
   "id": "d68759bd",
   "metadata": {},
   "outputs": [],
   "source": [
    "def DTPlot(wheel, station, option):\n",
    "    fig, DTPlot = plt.subplots()\n",
    "    \n",
    "    DTPlot.plot(0, Result[(Result.wheel == wheel) & (Result.station == station) & (Result['returns:'] == 2 ) ][option].values, 'ro', label = '2 files')\n",
    "    DTPlot.plot(1, Result[(Result.wheel == wheel) & (Result.station == station) & (Result['returns:'] == 4 ) ][option].values, 'ro', label = '4 files')\n",
    "    DTPlot.plot(2, Result[(Result.wheel == wheel) & (Result.station == station) & (Result['returns:'] == 8 ) ][option].values, 'ro', label = '8 files')\n",
    "    DTPlot.plot(3, Result[(Result.wheel == wheel) & (Result.station == station) & (Result['returns:'] == 16 ) ][option].values, 'ro', label = '16 files')\n",
    "    DTPlot.plot(4, Result[(Result.wheel == wheel) & (Result.station == station) & (Result['returns:'] == 31 ) ][option].values, 'ro', label = '31 files')\n",
    "    DTPlot.plot(5, Result[(Result.wheel == wheel) & (Result.station == station) & (Result['returns:'] == 62 ) ][option].values, 'ro', label = '62 files')\n",
    "    DTPlot.plot(6, Result[(Result.wheel == wheel) & (Result.station == station) & (Result['returns:'] == 125 ) ][option].values, 'ro', label = '125 files')\n",
    "    DTPlot.plot(7, Result[(Result.wheel == wheel) & (Result.station == station) & (Result['returns:'] == 250 ) ][option].values, 'ro', label = '250 files')\n",
    "    DTPlot.plot(8, Result[(Result.wheel == wheel) & (Result.station == station) & (Result['returns:'] == 500) ][option].values, 'ro', label = '500 files')\n",
    "    ax = plt.gca()\n",
    "    ax.set_xticks([0,1,2,3,4,5,6,7,8] )\n",
    "    ax.set_xticklabels([\"2\",\"4\",\"8\",\"16\",\"31\",\"62\",\"125\",\"250\",\"500\"])\n",
    "    "
   ]
  },
  {
   "cell_type": "code",
   "execution_count": null,
   "id": "ac1b84e0",
   "metadata": {},
   "outputs": [],
   "source": [
    "Result[(Result.wheel == 0) & (Result.station == 1) & (Result['returns:'] == 2)]['phiz std'].values"
   ]
  },
  {
   "cell_type": "code",
   "execution_count": null,
   "id": "4b037548",
   "metadata": {},
   "outputs": [],
   "source": [
    "#nMuons_mean\n",
    "#nMuons_std\n",
    "#hesse_unc_x\n",
    "#hesse_unc_y\n",
    "#hesse_unc_z\n",
    "#hesse_unc_phix\n",
    "#hesse_unc_phiy\n",
    "#hesse_unc_phiz\n",
    "#x std\n",
    "#y std\n",
    "#z std\n",
    "#phix std\n",
    "#phiy std\n",
    "#phiz std\n",
    "DTPlot(1,2, \"x std\")"
   ]
  },
  {
   "cell_type": "code",
   "execution_count": null,
   "id": "a2c4cd77",
   "metadata": {},
   "outputs": [],
   "source": [
    "def DTPlot2opt(wheel, station, option1, option2):\n",
    "    fig, DTPlot = plt.subplots()\n",
    "    \n",
    "    DTPlot.plot(0, Result[(Result.wheel == wheel) & (Result.station == station) & (Result['returns:'] == 2 ) ][option].values, 'ro', label = '2 files')\n",
    "    DTPlot.plot(1, Result[(Result.wheel == wheel) & (Result.station == station) & (Result['returns:'] == 4 ) ][option].values, 'ro', label = '4 files')\n",
    "    DTPlot.plot(2, Result[(Result.wheel == wheel) & (Result.station == station) & (Result['returns:'] == 8 ) ][option].values, 'ro', label = '8 files')\n",
    "    DTPlot.plot(3, Result[(Result.wheel == wheel) & (Result.station == station) & (Result['returns:'] == 16 ) ][option].values, 'ro', label = '16 files')\n",
    "    DTPlot.plot(4, Result[(Result.wheel == wheel) & (Result.station == station) & (Result['returns:'] == 31 ) ][option].values, 'ro', label = '31 files')\n",
    "    DTPlot.plot(5, Result[(Result.wheel == wheel) & (Result.station == station) & (Result['returns:'] == 62 ) ][option].values, 'ro', label = '62 files')\n",
    "    DTPlot.plot(6, Result[(Result.wheel == wheel) & (Result.station == station) & (Result['returns:'] == 125 ) ][option].values, 'ro', label = '125 files')\n",
    "    DTPlot.plot(7, Result[(Result.wheel == wheel) & (Result.station == station) & (Result['returns:'] == 250 ) ][option].values, 'ro', label = '250 files')\n",
    "    DTPlot.plot(8, Result[(Result.wheel == wheel) & (Result.station == station) & (Result['returns:'] == 500) ][option].values, 'ro', label = '500 files')\n",
    "    ax = plt.gca()"
   ]
  },
  {
   "cell_type": "code",
   "execution_count": null,
   "id": "80de6fa3",
   "metadata": {},
   "outputs": [],
   "source": [
    "from scipy.optimize import curve_fit"
   ]
  },
  {
   "cell_type": "code",
   "execution_count": null,
   "id": "51f8f7a8",
   "metadata": {},
   "outputs": [],
   "source": [
    "def sys_func(x, p0, p1):\n",
    "    return (p0 ** 2 / x + p1 ** 2) ** 0.5"
   ]
  },
  {
   "cell_type": "code",
   "execution_count": null,
   "id": "85b24508",
   "metadata": {},
   "outputs": [],
   "source": [
    "Result"
   ]
  },
  {
   "cell_type": "code",
   "execution_count": null,
   "id": "c7ee77cc",
   "metadata": {},
   "outputs": [],
   "source": [
    "def plot_wheel_station(ax, wheel, station, option):\n",
    "    tempResults = Result[(Result.wheel==wheel) & (Result.station==station)]\n",
    "    tempResults = tempResults[tempResults.nMuons_mean >50]\n",
    "    if option == \"x\":\n",
    "        option = \"x std\"\n",
    "        option_error = tempResults.hesse_unc_x\n",
    "    if option == \"y\":\n",
    "        option = \"y std\"\n",
    "        option_error = tempResults.hesse_unc_y\n",
    "    if option == \"z\":\n",
    "        option = \"z std\"\n",
    "        option_error = tempResults.hesse_unc_z\n",
    "    if option == \"phix\":\n",
    "        option = \"phix std\"\n",
    "        option_error = tempResults.hesse_unc_phix\n",
    "    if option == \"phiy\":\n",
    "        option = \"phiy std\"\n",
    "        option_error = tempResults.hesse_unc_phiy\n",
    "    if option == \"phiz\":\n",
    "        option = \"phiz std\"\n",
    "        option_error = tempResults.hesse_unc_phiz\n",
    "    \n",
    "    x = tempResults.nMuons_mean\n",
    "    y = tempResults[option]\n",
    "    popt, pcov = curve_fit(sys_func, x, y)\n",
    "    x_fit = np.linspace(min(x), max(x), 100)\n",
    "    y_fit = sys_func(x_fit, *popt)\n",
    "    #plt.yscale(\"log\")\n",
    "    #plt.xscale(\"log\")\n",
    "    ax.plot(x_fit, y_fit)\n",
    "    #ax.errorbar(x, y, yerr = tempResults.hesse_unc_x,linestyle='None')\n",
    "    ax.scatter(x, y, label='wheel-station {}/{}: sys {:.2e}'.format(wheel, station, np.abs(popt[1]) ))\n",
    "    ax.set_xlabel('n Muons')\n",
    "    ax.set_ylabel(option)\n",
    "    print(\"a: {} b: {}\".format(*popt))\n",
    "    "
   ]
  },
  {
   "cell_type": "code",
   "execution_count": null,
   "id": "849f758d",
   "metadata": {},
   "outputs": [],
   "source": [
    "def draw_wheel(wheel, option):\n",
    "    fig, axs = plt.subplots(1,1, figsize=(10,5))\n",
    "    plot_wheel_station(axs, wheel, 1, option)\n",
    "    plot_wheel_station(axs, wheel, 2, option)\n",
    "    plot_wheel_station(axs, wheel, 3, option)\n",
    "    if option != \"y\": \n",
    "        plot_wheel_station(axs, wheel, 4, option)\n",
    "    axs.set_title(\"Wheel {}\".format(wheel))\n",
    "    #hep.style.use(hep.style.ROOT)\n",
    "    axs.legend()"
   ]
  },
  {
   "cell_type": "code",
   "execution_count": null,
   "id": "be10e3b1",
   "metadata": {},
   "outputs": [],
   "source": [
    "def DrawAllWheels(option):\n",
    "    draw_wheel(-2, option)\n",
    "    draw_wheel(-1, option)\n",
    "    draw_wheel(0, option)\n",
    "    draw_wheel(1, option)\n",
    "    draw_wheel(2, option)"
   ]
  },
  {
   "cell_type": "code",
   "execution_count": null,
   "id": "ea1152f7",
   "metadata": {},
   "outputs": [],
   "source": [
    "Result[(Result.wheel==2) & (Result.station==4)]**2"
   ]
  },
  {
   "cell_type": "code",
   "execution_count": null,
   "id": "87150926",
   "metadata": {},
   "outputs": [],
   "source": [
    "def plot_wheel_stationhesse(ax, wheel, station, option):\n",
    "    tempResults = Result[(Result.wheel==wheel) & (Result.station==station)]\n",
    "    tempResults = tempResults[tempResults.nMuons_mean >50]\n",
    "    if option == \"x\":\n",
    "        option = \"x std\"\n",
    "        hess = \"hesse_unc_x\"\n",
    "    if option == \"y\":\n",
    "        option = \"y std\"\n",
    "        hess = \"hesse_unc_y\"\n",
    "    if option == \"z\":\n",
    "        option = \"z std\"\n",
    "        hess = \"hesse_unc_z\"\n",
    "    if option == \"phix\":\n",
    "        option = \"phix std\"\n",
    "        hess = \"hesse_unc_phix\"\n",
    "    if option == \"phiy\":\n",
    "        option = \"phiy std\"\n",
    "        hess = \"hesse_unc_phiy\"\n",
    "    if option == \"phiz\":\n",
    "        option = \"phiz std\"\n",
    "        hess = \"hesse_unc_phiz\"\n",
    "    \n",
    "    x = tempResults.nMuons_mean\n",
    "    y = (tempResults[option]**2-tempResults[hess]**2).abs()**.5\n",
    "    #y = tempResults[hess]\n",
    "    popt, pcov = curve_fit(sys_func, x, y)\n",
    "    x_fit = np.linspace(min(x), max(x), 100)\n",
    "    y_fit = sys_func(x_fit, *popt)\n",
    "    #plt.yscale(\"log\")\n",
    "    #plt.xscale(\"log\")\n",
    "    ax.plot(x_fit, y_fit)\n",
    "    #ax.errorbar(x, y, yerr = tempResults.hesse_unc_x,linestyle='None')\n",
    "    ax.scatter(x, y, label='wheel-station {}/{}: sys {:.2e}'.format(wheel, station, np.abs(popt[1]) ))\n",
    "    ax.set_xlabel('n Muons')\n",
    "    ax.set_ylabel(option)\n",
    "    print(\"a: {} b: {}\".format(*popt))"
   ]
  },
  {
   "cell_type": "code",
   "execution_count": null,
   "id": "9c10e006",
   "metadata": {},
   "outputs": [],
   "source": [
    "def draw_wheelhesse(wheel, option):\n",
    "    fig, axs = plt.subplots(1,1, figsize=(10,5))\n",
    "    plot_wheel_stationhesse(axs, wheel, 1, option)\n",
    "    plot_wheel_stationhesse(axs, wheel, 2, option)\n",
    "    plot_wheel_stationhesse(axs, wheel, 3, option)\n",
    "    if option != \"y\": \n",
    "        plot_wheel_stationhesse(axs, wheel, 4, option)\n",
    "    axs.set_title(\"Wheel {}\".format(wheel))\n",
    "    #hep.style.use(hep.style.ROOT)\n",
    "    axs.legend()"
   ]
  },
  {
   "cell_type": "code",
   "execution_count": null,
   "id": "3da4f80a",
   "metadata": {},
   "outputs": [],
   "source": [
    "draw_wheelhesse(-2, \"x\")\n",
    "draw_wheel(1, \"x\")"
   ]
  },
  {
   "cell_type": "code",
   "execution_count": null,
   "id": "7a7586db",
   "metadata": {},
   "outputs": [],
   "source": [
    "Result.to_csv('Result.csv')"
   ]
  }
 ],
 "metadata": {
  "kernelspec": {
   "display_name": "Python 3",
   "language": "python",
   "name": "python3"
  },
  "language_info": {
   "codemirror_mode": {
    "name": "ipython",
    "version": 3
   },
   "file_extension": ".py",
   "mimetype": "text/x-python",
   "name": "python",
   "nbconvert_exporter": "python",
   "pygments_lexer": "ipython3",
   "version": "3.9.6"
  }
 },
 "nbformat": 4,
 "nbformat_minor": 5
}
