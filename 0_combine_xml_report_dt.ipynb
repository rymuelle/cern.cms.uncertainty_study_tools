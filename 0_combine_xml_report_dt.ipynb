{
 "cells": [
  {
   "cell_type": "code",
   "execution_count": null,
   "id": "27396309",
   "metadata": {},
   "outputs": [],
   "source": [
    "import numpy as np\n",
    "import pandas as pd\n",
    "from math import isnan\n",
    "import re\n",
    "import matplotlib.pyplot as plt\n",
    "from ape_producer.geom_reader import create_geom_df\n",
    "from ape_producer.parse_report import make_cov_objects\n",
    "from ape_producer.sign_conventions import signConventions, square_coordinates\n",
    "from scipy.optimize import curve_fit\n",
    "import os\n",
    "import glob\n",
    "#import mplhep as hep\n",
    "%load_ext autoreload\n",
    "%autoreload 2\n",
    "pd.set_option('display.max_rows', 500)"
   ]
  },
  {
   "cell_type": "code",
   "execution_count": null,
   "id": "b312bb47",
   "metadata": {},
   "outputs": [],
   "source": [
    "%load_ext autoreload\n",
    "%autoreload 2"
   ]
  },
  {
   "cell_type": "code",
   "execution_count": null,
   "id": "1b6ddc21",
   "metadata": {},
   "outputs": [],
   "source": [
    "import glob\n",
    "from importlib import import_module\n",
    "from ape_producer.parse_report import make_cov_objects, square_array\n",
    "import numpy as np\n",
    "import pandas as pd\n",
    "import re"
   ]
  },
  {
   "cell_type": "code",
   "execution_count": null,
   "id": "3216a0b9",
   "metadata": {},
   "outputs": [],
   "source": [
    "from src.assets import *"
   ]
  },
  {
   "cell_type": "code",
   "execution_count": null,
   "id": "da252124",
   "metadata": {},
   "outputs": [],
   "source": [
    "def sel_wheel_station(df, wheel, station):\n",
    "    return df[(df.wheel==wheel) &  (df.station==station)]\n",
    "\n",
    "def select_sectors(df, wheel, station):\n",
    "    return df[(df.wheel==wheel) & (df.station==station)]"
   ]
  },
  {
   "cell_type": "code",
   "execution_count": null,
   "id": "5407570d",
   "metadata": {},
   "outputs": [],
   "source": [
    "####\n",
    "##create list of xmls and reports that we want\n",
    "###"
   ]
  },
  {
   "cell_type": "code",
   "execution_count": null,
   "id": "f210627d",
   "metadata": {},
   "outputs": [],
   "source": [
    "isRealistic = False\n",
    "if isRealistic:\n",
    "    re_xmls = [\n",
    "    'data/realistic_10_6_.+.xml'\n",
    "    ]\n",
    "    re_report = [\n",
    "    \"data/realistic_10_6_.+.py\"\n",
    "    ] \n",
    "    dt_df_target, csc_df_target = create_geom_df('data/mctruth_realistic_10_6_2017.xml')\n",
    "    dt_df_target, csc_df_target = pd.DataFrame(),  pd.DataFrame()\n",
    "else:\n",
    "    re_xmls = [\n",
    "    \"data/SM_10_6_.+.xml\",\n",
    "    'data/design_10_6_.+.xml'\n",
    "    ]\n",
    "    re_report = [\n",
    "    \"data/SM_10_6_.+.py\",\n",
    "    'data/design_10_6_.+.py'\n",
    "    ]\n",
    "    dt_df_target, csc_df_target = pd.DataFrame(),  pd.DataFrame()\n",
    "def match_re(re_list, string):\n",
    "    for re_string in re_list:\n",
    "        if bool(re.match(re_string, string)): return 1\n",
    "    return 0\n",
    "files = glob.glob('data/*')\n",
    "xml_files = [file for file in files if match_re(re_xmls, file)]\n",
    "report_files = [file for file in files if match_re(re_report, file)]"
   ]
  },
  {
   "cell_type": "code",
   "execution_count": null,
   "id": "910a60ad",
   "metadata": {},
   "outputs": [],
   "source": [
    "report_files"
   ]
  },
  {
   "cell_type": "code",
   "execution_count": null,
   "id": "d54754bd",
   "metadata": {},
   "outputs": [],
   "source": [
    "def filter_list(file_list):\n",
    "    design_list = list(filter(lambda x: 'design' in x, file_list))\n",
    "    design_list = list(filter(lambda x: not '_0.' in x, design_list))\n",
    "    csc = list(filter(lambda x: 'csc' in x, design_list))\n",
    "    dt = list(filter(lambda x: not 'csc' in x, design_list))\n",
    "    return dt"
   ]
  },
  {
   "cell_type": "code",
   "execution_count": null,
   "id": "e29bd2cd",
   "metadata": {},
   "outputs": [],
   "source": [
    "design_xml_files = filter_list(xml_files)\n",
    "design_report_files = filter_list(report_files)"
   ]
  },
  {
   "cell_type": "code",
   "execution_count": null,
   "id": "332edcec",
   "metadata": {},
   "outputs": [],
   "source": [
    "####\n",
    "## Now, we create the report.py dataframe\n",
    "####"
   ]
  },
  {
   "cell_type": "code",
   "execution_count": null,
   "id": "ed0024e4",
   "metadata": {},
   "outputs": [],
   "source": [
    "#format files as modules\n",
    "modules = [f.replace('/', '.').replace('.py','') for f in design_report_files]"
   ]
  },
  {
   "cell_type": "code",
   "execution_count": null,
   "id": "3ca2a8bd",
   "metadata": {},
   "outputs": [],
   "source": [
    "def get_report(module_name):\n",
    "    return import_module(module_name).reports"
   ]
  },
  {
   "cell_type": "code",
   "execution_count": null,
   "id": "c1d98254",
   "metadata": {},
   "outputs": [],
   "source": [
    "def make_summary_report_df(module_name, njobs):\n",
    "    report_ex = get_report(module_name)\n",
    "    dt_cov_df, csc_cov_df = make_cov_objects(report_ex, debug=False)\n",
    "    dt_cov_df['name'] = module_name.split('.')[1].replace('_report', '')\n",
    "    return dt_cov_df"
   ]
  },
  {
   "cell_type": "code",
   "execution_count": null,
   "id": "2630042f",
   "metadata": {},
   "outputs": [],
   "source": [
    "def number_from_name(name):\n",
    "    return int(re.findall('report_(\\d+)', name)[0])"
   ]
  },
  {
   "cell_type": "code",
   "execution_count": null,
   "id": "aaf4187b",
   "metadata": {},
   "outputs": [],
   "source": [
    "stats_df = pd.DataFrame()\n",
    "for module in modules:\n",
    "    print(module)\n",
    "    df = make_summary_report_df(module, number_from_name(module))\n",
    "    stats_df = stats_df.append(df)"
   ]
  },
  {
   "cell_type": "code",
   "execution_count": null,
   "id": "58d94061",
   "metadata": {},
   "outputs": [],
   "source": [
    "def break_out_error(row):\n",
    "    return pd.Series({a+'_unc':e for a,e in zip(alignables, row.error)})"
   ]
  },
  {
   "cell_type": "code",
   "execution_count": null,
   "id": "bf3584ba",
   "metadata": {},
   "outputs": [],
   "source": [
    "uncertainties = stats_df.apply(break_out_error, axis=1)"
   ]
  },
  {
   "cell_type": "code",
   "execution_count": null,
   "id": "2eea779f",
   "metadata": {},
   "outputs": [],
   "source": [
    "stats_df = pd.concat([stats_df,uncertainties], axis=1)"
   ]
  },
  {
   "cell_type": "code",
   "execution_count": null,
   "id": "b7ce7745",
   "metadata": {},
   "outputs": [],
   "source": [
    "####\n",
    "## Make xml df\n",
    "####"
   ]
  },
  {
   "cell_type": "code",
   "execution_count": null,
   "id": "7e7582bd",
   "metadata": {},
   "outputs": [],
   "source": [
    "dt_df_combined = pd.DataFrame()\n",
    "for xml_file in design_xml_files:\n",
    "    xml_name = xml_file.split('/')[1].replace('.xml','')\n",
    "    dt_df, csc_df = create_geom_df(xml_file)\n",
    "    dt_df['xml_name'] = xml_name\n",
    "    dt_df_combined = dt_df_combined.append(dt_df)"
   ]
  },
  {
   "cell_type": "code",
   "execution_count": null,
   "id": "b9580f61",
   "metadata": {},
   "outputs": [],
   "source": [
    "dt_df_combined"
   ]
  },
  {
   "cell_type": "code",
   "execution_count": null,
   "id": "a0898e44",
   "metadata": {},
   "outputs": [],
   "source": [
    "def get_value_wheel_station_name(w,s,sec, n):\n",
    "    return stats_df[(stats_df.wheel==w) &\n",
    "                    (stats_df.station==s) & \n",
    "                    (stats_df.sector==sec) & \n",
    "                   (stats_df.name==n)].iloc[0]"
   ]
  },
  {
   "cell_type": "code",
   "execution_count": null,
   "id": "28c887af",
   "metadata": {},
   "outputs": [],
   "source": [
    "get_value_wheel_station_name(-2,1, 1, \"design_10_6_25M_01_1\")"
   ]
  },
  {
   "cell_type": "code",
   "execution_count": null,
   "id": "75db477c",
   "metadata": {},
   "outputs": [],
   "source": [
    "stat_df_mapped = dt_df_combined.apply(lambda x: get_value_wheel_station_name(x.wheel, x.station, x.sector, x.xml_name), axis=1)"
   ]
  },
  {
   "cell_type": "code",
   "execution_count": null,
   "id": "a8e1c247",
   "metadata": {},
   "outputs": [],
   "source": [
    "combined_df = pd.concat([dt_df_combined.reset_index(drop=True),stat_df_mapped.reset_index(drop=True)], axis=1)"
   ]
  },
  {
   "cell_type": "code",
   "execution_count": null,
   "id": "6061ed6c",
   "metadata": {},
   "outputs": [],
   "source": [
    "combined_df.to_csv('combined_xml_report.csv')"
   ]
  },
  {
   "cell_type": "code",
   "execution_count": null,
   "id": "587a8b4f",
   "metadata": {},
   "outputs": [],
   "source": [
    "combined_df"
   ]
  },
  {
   "cell_type": "code",
   "execution_count": null,
   "id": "58ed5ed0",
   "metadata": {},
   "outputs": [],
   "source": [
    "plt.scatter(abs(combined_df.x), combined_df.x_unc)\n",
    "plt.plot([0,1], [0,1])"
   ]
  }
 ],
 "metadata": {
  "kernelspec": {
   "display_name": "Python 3",
   "language": "python",
   "name": "python3"
  },
  "language_info": {
   "codemirror_mode": {
    "name": "ipython",
    "version": 3
   },
   "file_extension": ".py",
   "mimetype": "text/x-python",
   "name": "python",
   "nbconvert_exporter": "python",
   "pygments_lexer": "ipython3",
   "version": "3.9.6"
  }
 },
 "nbformat": 4,
 "nbformat_minor": 5
}
